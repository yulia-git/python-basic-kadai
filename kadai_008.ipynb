{
  "nbformat": 4,
  "nbformat_minor": 0,
  "metadata": {
    "colab": {
      "provenance": [],
      "authorship_tag": "ABX9TyNTkAygRtjVkAIRTMMhADCO",
      "include_colab_link": true
    },
    "kernelspec": {
      "name": "python3",
      "display_name": "Python 3"
    },
    "language_info": {
      "name": "python"
    }
  },
  "cells": [
    {
      "cell_type": "markdown",
      "metadata": {
        "id": "view-in-github",
        "colab_type": "text"
      },
      "source": [
        "<a href=\"https://colab.research.google.com/github/yulia-git/python-basic-kadai/blob/main/kadai_008.ipynb\" target=\"_parent\"><img src=\"https://colab.research.google.com/assets/colab-badge.svg\" alt=\"Open In Colab\"/></a>"
      ]
    },
    {
      "cell_type": "code",
      "execution_count": 15,
      "metadata": {
        "colab": {
          "base_uri": "https://localhost:8080/"
        },
        "id": "TmXFYMpHHxy2",
        "outputId": "e150afd3-b891-4fb4-c110-60606cc5536c"
      },
      "outputs": [
        {
          "output_type": "stream",
          "name": "stdout",
          "text": [
            "整数を入力してください30\n",
            "FizzBuzz\n"
          ]
        }
      ],
      "source": [
        "x=input(\"整数を入力してください\")\n",
        "var=int(x)\n",
        "if var%3==0 and var%5==0:\n",
        "    print(\"FizzBuzz\")\n",
        "elif var%3==0:\n",
        "    print(\"Fizz\")\n",
        "elif var%5==0:\n",
        "    print(\"Buzz\")\n",
        "else: print(var)"
      ]
    }
  ]
}