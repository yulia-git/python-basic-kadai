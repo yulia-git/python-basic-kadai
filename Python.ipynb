{
  "nbformat": 4,
  "nbformat_minor": 0,
  "metadata": {
    "colab": {
      "provenance": [],
      "authorship_tag": "ABX9TyP/cHyMkOG56bzrUhKrxyP0",
      "include_colab_link": true
    },
    "kernelspec": {
      "name": "python3",
      "display_name": "Python 3"
    },
    "language_info": {
      "name": "python"
    }
  },
  "cells": [
    {
      "cell_type": "markdown",
      "metadata": {
        "id": "view-in-github",
        "colab_type": "text"
      },
      "source": [
        "<a href=\"https://colab.research.google.com/github/yulia-git/python-basic-kadai/blob/main/Python.ipynb\" target=\"_parent\"><img src=\"https://colab.research.google.com/assets/colab-badge.svg\" alt=\"Open In Colab\"/></a>"
      ]
    },
    {
      "cell_type": "code",
      "execution_count": null,
      "metadata": {
        "colab": {
          "base_uri": "https://localhost:8080/"
        },
        "id": "J6r7uvSBGa6M",
        "outputId": "7845fb42-7283-46ae-ecfa-32dacd56bdb0"
      },
      "outputs": [
        {
          "output_type": "stream",
          "name": "stdout",
          "text": [
            "63\n",
            "18\n",
            "90\n",
            "10.0\n",
            "5\n",
            "<class 'float'>\n"
          ]
        }
      ],
      "source": [
        "print(45+18)\n",
        "print(30-12)\n",
        "print(15*6)\n",
        "print(30/3)\n",
        "print(45%8)\n",
        "print(type(30/3))"
      ]
    },
    {
      "cell_type": "code",
      "source": [
        "print(0.3-0.1)\n",
        "print(100-0.1)\n",
        "print(15*0.6)\n",
        "print(1/3)\n",
        "print(45%0.8)"
      ],
      "metadata": {
        "id": "HY-riIStHjFE",
        "colab": {
          "base_uri": "https://localhost:8080/"
        },
        "outputId": "49443889-7024-45be-9a25-631419eed457"
      },
      "execution_count": null,
      "outputs": [
        {
          "output_type": "stream",
          "name": "stdout",
          "text": [
            "0.19999999999999998\n",
            "99.9\n",
            "9.0\n",
            "0.3333333333333333\n",
            "0.1999999999999975\n"
          ]
        }
      ]
    },
    {
      "cell_type": "code",
      "source": [
        "print(100-0.1)\n",
        "print(100-99.9)"
      ],
      "metadata": {
        "colab": {
          "base_uri": "https://localhost:8080/"
        },
        "id": "OoOnoy9xTx5N",
        "outputId": "2bc9bfa6-c3ea-4fc5-d930-da9294f16dbb"
      },
      "execution_count": null,
      "outputs": [
        {
          "output_type": "stream",
          "name": "stdout",
          "text": [
            "99.9\n",
            "0.09999999999999432\n"
          ]
        }
      ]
    },
    {
      "cell_type": "code",
      "source": [
        "from decimal import Decimal\n",
        "print(Decimal('100')-Decimal('0.1'))\n",
        "print(Decimal('100')-Decimal('99.9'))"
      ],
      "metadata": {
        "colab": {
          "base_uri": "https://localhost:8080/"
        },
        "id": "OYnWJqD-X4wF",
        "outputId": "0715d005-cb5b-4445-f45a-8d6170bd02bc"
      },
      "execution_count": null,
      "outputs": [
        {
          "output_type": "stream",
          "name": "stdout",
          "text": [
            "99.9\n",
            "0.1\n"
          ]
        }
      ]
    },
    {
      "cell_type": "code",
      "source": [
        "print(\"今日の天気は\"+\"晴れ\")\n",
        "print(\"今日の天気は\",\"曇り\")"
      ],
      "metadata": {
        "colab": {
          "base_uri": "https://localhost:8080/"
        },
        "id": "GJ2eSqEjMGoq",
        "outputId": "c12763f3-a8a0-4061-905d-c1b33f6a1ef5"
      },
      "execution_count": null,
      "outputs": [
        {
          "output_type": "stream",
          "name": "stdout",
          "text": [
            "今日の天気は晴れ\n",
            "今日の天気は 曇り\n"
          ]
        }
      ]
    },
    {
      "cell_type": "code",
      "source": [
        "print(\"降水確率\"+str(50)+\"%\")\n",
        "print(\"晴れ\"*5)"
      ],
      "metadata": {
        "colab": {
          "base_uri": "https://localhost:8080/"
        },
        "id": "2eFk1dXpMtkn",
        "outputId": "ea7d0cb8-7ffb-440d-b0b6-5cac8a8b7e06"
      },
      "execution_count": null,
      "outputs": [
        {
          "output_type": "stream",
          "name": "stdout",
          "text": [
            "降水確率50%\n",
            "晴れ晴れ晴れ晴れ晴れ\n"
          ]
        }
      ]
    },
    {
      "cell_type": "code",
      "source": [
        "user_name=\"ユリア\"\n",
        "print(user_name)\n",
        "user_name=42\n",
        "print(user_name)"
      ],
      "metadata": {
        "colab": {
          "base_uri": "https://localhost:8080/"
        },
        "id": "-kLOXGHeKRXT",
        "outputId": "f3b61e5d-df3f-4d01-e610-1f225ff3631c"
      },
      "execution_count": null,
      "outputs": [
        {
          "output_type": "stream",
          "name": "stdout",
          "text": [
            "ユリア\n",
            "42\n"
          ]
        }
      ]
    },
    {
      "cell_type": "code",
      "source": [
        "number1=5\n",
        "number2=2.5\n",
        "print(number1+number2)\n",
        "\n",
        "lastName=\"侍\"\n",
        "firstName=\"太郎\"\n",
        "sisterName=\"花子\"\n",
        "\n",
        "print(f\"私の名前は{lastName}{firstName}です。妹の名前は{sisterName}です。\")"
      ],
      "metadata": {
        "colab": {
          "base_uri": "https://localhost:8080/"
        },
        "id": "IQKeaFKkLBuc",
        "outputId": "7faba86d-d40b-4af6-def6-01f0728c1bad"
      },
      "execution_count": null,
      "outputs": [
        {
          "output_type": "stream",
          "name": "stdout",
          "text": [
            "7.5\n",
            "私の名前は侍太郎です。妹の名前は花子です。\n"
          ]
        }
      ]
    },
    {
      "cell_type": "code",
      "source": [
        "up_side=10\n",
        "down_side=20\n",
        "height=5\n",
        "S=(up_side+down_side)*height/2\n",
        "print(f\"上辺：{up_side}cm\")\n",
        "print(f\"下辺：{down_side}cm\")\n",
        "print(f\"高さ：{height}cm\")\n",
        "print(f\"台形の面積＝{S}㎠\")"
      ],
      "metadata": {
        "colab": {
          "base_uri": "https://localhost:8080/"
        },
        "id": "vQMzbisGPrQU",
        "outputId": "4cc7b3d0-0f3e-4d56-9227-c7de09f81b99"
      },
      "execution_count": null,
      "outputs": [
        {
          "output_type": "stream",
          "name": "stdout",
          "text": [
            "上辺：10cm\n",
            "下辺：20cm\n",
            "高さ：5cm\n",
            "台形の面積＝75.0㎠\n"
          ]
        }
      ]
    }
  ]
}